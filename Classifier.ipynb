{
 "cells": [
  {
   "cell_type": "markdown",
   "id": "2a3181d5-30d0-4624-919c-9bb256fafa23",
   "metadata": {},
   "source": [
    "## Author(s)\n",
    "\n",
    "- Author1 = {\"name\": \"Ayo Kehinde Samuel\", \"affiliation\": \"AI engineer,Technical Lead\", \"email\": \"sa@risigner.com\"}\n"
   ]
  },
  {
   "cell_type": "markdown",
   "id": "05428a20-a2e4-464f-b35d-6a4161d6d7a2",
   "metadata": {},
   "source": [
    "<h1>Table of Contents<span class=\"tocSkip\"></span></h1>\n",
    "<div class=\"toc\"><ul class=\"toc-item\"><li><span><a href=\"#Template-Notebook-for-EarthCube---Long-Version\" data-toc-modified-id=\"Template-Notebook-for-EarthCube---Long-Version-1\"><span class=\"toc-item-num\">1&nbsp;&nbsp;</span>Notebook for Risigner Project</a></span><ul class=\"toc-item\"><li><span><a href=\"#Author(s)\" data-toc-modified-id=\"Author(s)-1.1\"><span class=\"toc-item-num\">1.1&nbsp;&nbsp;</span>Author(s)</a></span></li><li><span><a href=\"#Purpose\" data-toc-modified-id=\"Purpose-1.2\"><span class=\"toc-item-num\">1.2&nbsp;&nbsp;</span>Purpose</a></span></li><li><span><a href=\"#Technical-contributions\" data-toc-modified-id=\"Technical-contributions-1.3\"><span class=\"toc-item-num\">1.3&nbsp;&nbsp;</span>Technical contributions</a></span></li><li><span><a href=\"#Methodology\" data-toc-modified-id=\"Methodology-1.4\"><span class=\"toc-item-num\">1.4&nbsp;&nbsp;</span>Methodology</a></span></li><li><span><a href=\"#Results\" data-toc-modified-id=\"Results-1.5\"><span class=\"toc-item-num\">1.5&nbsp;&nbsp;</span>Results</a></span></li><li><span><a href=\"#Funding\" data-toc-modified-id=\"Funding-1.6\"><span class=\"toc-item-num\">1.6&nbsp;&nbsp;</span>Funding</a></span></li><li><span><a href=\"#Keywords\" data-toc-modified-id=\"Keywords-1.7\"><span class=\"toc-item-num\">1.7&nbsp;&nbsp;</span>Keywords</a></span></li><li><span><a href=\"#Citation\" data-toc-modified-id=\"Citation-1.8\"><span class=\"toc-item-num\">1.8&nbsp;&nbsp;</span>Citation</a></span></li><li><span><a href=\"#Work-In-Progress---improvements\" data-toc-modified-id=\"Work-In-Progress---improvements-1.9\"><span class=\"toc-item-num\">1.9&nbsp;&nbsp;</span>Work In Progress - improvements</a></span></li><li><span><a href=\"#Suggested-next-steps\" data-toc-modified-id=\"Suggested-next-steps-1.10\"><span class=\"toc-item-num\">1.10&nbsp;&nbsp;</span>Suggested next steps</a></span></li><li><span><a href=\"#Acknowledgements\" data-toc-modified-id=\"Acknowledgements-1.11\"><span class=\"toc-item-num\">1.11&nbsp;&nbsp;</span>Acknowledgements</a></span></li></ul></li><li><span><a href=\"#Setup\" data-toc-modified-id=\"Setup-2\"><span class=\"toc-item-num\">2&nbsp;&nbsp;</span>Setup</a></span><ul class=\"toc-item\"><li><span><a href=\"#Library-import\" data-toc-modified-id=\"Library-import-2.1\"><span class=\"toc-item-num\">2.1&nbsp;&nbsp;</span>Library import</a></span></li><li><span><a href=\"#Local-library-import\" data-toc-modified-id=\"Local-library-import-2.2\"><span class=\"toc-item-num\">2.2&nbsp;&nbsp;</span>Local library import</a></span></li></ul></li><li><span><a href=\"#Parameter-definitions\" data-toc-modified-id=\"Parameter-definitions-3\"><span class=\"toc-item-num\">3&nbsp;&nbsp;</span>Parameter definitions</a></span></li><li><span><a href=\"#Data-import\" data-toc-modified-id=\"Data-import-4\"><span class=\"toc-item-num\">4&nbsp;&nbsp;</span>Data import</a></span></li><li><span><a href=\"#Data-processing-and-analysis\" data-toc-modified-id=\"Data-processing-and-analysis-5\"><span class=\"toc-item-num\">5&nbsp;&nbsp;</span>Data processing and analysis</a></span><ul class=\"toc-item\"><li><span><a href=\"#The-10-rules\" data-toc-modified-id=\"The-10-rules-5.1\"><span class=\"toc-item-num\">5.1&nbsp;&nbsp;</span>The 10 rules</a></span></li><li><span><a href=\"#Using-notebook-template\" data-toc-modified-id=\"Using-notebook-template-5.2\"><span class=\"toc-item-num\">5.2&nbsp;&nbsp;</span>Using notebook template</a></span></li><li><span><a href=\"#Adding-table-of-contents\" data-toc-modified-id=\"Adding-table-of-contents-5.3\"><span class=\"toc-item-num\">5.3&nbsp;&nbsp;</span>Adding table of contents</a></span></li><li><span><a href=\"#Creating-Binder-and-Docker-for-your-notebook-repository\" data-toc-modified-id=\"Creating-Binder-and-Docker-for-your-notebook-repository-5.4\"><span class=\"toc-item-num\">5.4&nbsp;&nbsp;</span>Creating Binder and Docker for your notebook repository</a></span></li></ul></li><li><span><a href=\"#References\" data-toc-modified-id=\"References-6\"><span class=\"toc-item-num\">6&nbsp;&nbsp;</span>References</a></span></li></ul></div>"
   ]
  },
  {
   "cell_type": "markdown",
   "id": "5df1ce7f-9754-412f-b592-950a7cc10fdf",
   "metadata": {},
   "source": [
    "## Purpose\n",
    "State the purpose of the notebook.\n",
    "\n",
    "This notebook is designed for the classification of the NIG3000SH fashion dataset classification. \n",
    "\n",
    "## Technical contributions\n",
    "Summarize the central contributions of the notebook (libraries created, scientific analysis demonstrated, etc.), as a bulleted list, with one or more bullets.\n",
    "\n",
    "Examples:\n",
    "\n",
    "- demonstration of scientific analysis leveraging existing API (explain)\n",
    "- development of underlying API that is exposed in the notebook (state which components are developed by the author, and point to documentation)\n",
    "- developmnent of local libraries imported in the notebook (they should be subbmitted along with the notebook and documented in the same way)\n",
    "\n",
    "\n",
    "## Methodology\n",
    "Quickly describe assumptions and processing steps. Include URLs as necessary. \n",
    "\n",
    "Most cells in this notebook are markdown cells. They describe the expected content of the notebook, steps for formatting and sumitting notebooks, and relevant technologies. The proposed structure and procedures are based on community input and literature (see References)\n",
    "\n",
    "You can use this template as a visual guide, or configure your Jupyter installation such that every notebook opens with this template, in either short of long version. To enable opening notebooks with this template, see instructions for using the Template nbextension, in the Data Processing section.\n",
    "\n",
    "Markdown headings are automatically numbered and organized into a Table of Contents (ToC) using the toc2 nbextenion. See  instructions in the Data Processing section.\n",
    "\n",
    "## Results\n",
    "Describe and comment on the most important results. Include images and URLs as necessary. \n",
    "\n",
    "This template presents the general structure of notebooks expected by EarthCube, along with recommendations for additional resources to be created to ensure that the notebook is easy to re-use.\n",
    "\n",
    "## Funding\n",
    "Include references to awards that supported this research. Add as many award references as you need.\n",
    "\n",
    "- Award1 = {\"agency\": \"US National Science Foundation\", \"award_code\": \"1928208\", \"award_URL\": \"https://www.nsf.gov/awardsearch/showAward?AWD_ID=1928208\"}\n",
    "- Award2 = {\"agency\": \"agency\", \"award_code\": \"award_code\", \"award_URL\": \"award_URL\"}\n",
    "- Award3 = ...\n",
    "\n",
    "## Keywords\n",
    "Include up to 5 keywords, using the template below.\n",
    "\n",
    "keywords=[\"keyword1\", \"keyword2\", \"keyword3\", \"keyword4\", \"keyword5\"]\n",
    "\n",
    "## Citation\n",
    "Include recommended citation for the notebook.\n",
    "\n",
    "For example: EarthCube Office, 2021. EarthCube Notebook Template. Accessed 2/1/2021 at https://github.com/earthcube/NotebookTemplates\n",
    "\n",
    "## Work In Progress - improvements\n",
    "Use this section only if the notebook is not final.\n",
    "\n",
    "Notable TODOs:\n",
    "- todo 1;\n",
    "- todo 2;\n",
    "- todo 3.\n",
    "\n",
    "Notable TODOs:\n",
    "- develop similar template for R, and possibly other languages [7];\n",
    "\n",
    "## Suggested next steps\n",
    "State suggested next steps, based on results obtained in this notebook. This section is optional.\n",
    "\n",
    "\n",
    "## Acknowledgements \n",
    "\n",
    "Include any relevant acknowledgements, apart from funding (which was in section 1.6)\n",
    "\n",
    "The template is licensed under a <a href=\"http://creativecommons.org/licenses/by/4.0/\">Creative Commons Attribution 4.0 International License.</a>"
   ]
  },
  {
   "cell_type": "markdown",
   "id": "db29f4b4-5452-4314-835b-7a76f3cdaf79",
   "metadata": {},
   "source": [
    "# Setup\n",
    "\n",
    "### Library import\n",
    "Import all the required Python libraries.\n",
    "\n",
    "It is a good practice to organize the imported libraries by functionality, as shown below."
   ]
  },
  {
   "cell_type": "code",
   "execution_count": 83,
   "id": "b23a57a2-8082-4a4b-aa1c-a29f8fb3f858",
   "metadata": {},
   "outputs": [],
   "source": [
    "#local libraries for system runtime\n",
    "import time\n",
    "import datetime\n",
    "import os\n",
    "import sys\n",
    "import math\n",
    "import itertools\n",
    "import warnings\n",
    "warnings.filterwarnings('ignore')\n",
    "\n",
    "#Data manipulation\n",
    "import numpy as np\n",
    "import pandas as pd\n",
    "\n",
    "#Data visualization\n",
    "import seaborn as sns\n",
    "import matplotlib.pyplot as plt\n",
    "import matplotlib.image as mpimg\n",
    "%matplotlib inline\n",
    "\n",
    "\n",
    "#Data preprocess\n",
    "import pickle\n",
    "\n",
    "#Image preprocessing\n",
    "import cv2\n",
    "from keras.preprocessing.image import ImageDataGenerator\n",
    "\n",
    "#Data splitting\n",
    "from sklearn.model_selection import GridSearchCV, cross_val_score, cross_val_predict\n",
    "\n",
    "#Modelling\n",
    "import tensorflow as tf\n",
    "from tensorflow.keras.callbacks import TensorBoard\n",
    "from keras import models, Model\n",
    "from keras import regularizers\n",
    "from tensorflow.keras.constraints import unit_norm\n",
    "from keras.models import Sequential\n",
    "from tensorflow.keras.optimizers import  SGD,Adam,RMSprop\n",
    "from keras.callbacks import ReduceLROnPlateau, EarlyStopping\n",
    "from keras.layers import Conv2D, MaxPooling2D,Activation,  Flatten, Dense, Dropout, BatchNormalization\n",
    "\n",
    " #For Transfer Learning\n",
    "from keras.applications.vgg19 import VGG19\n",
    "from tensorflow.keras.applications.resnet50 import ResNet50\n",
    "from keras.applications.xception import Xception\n",
    "import efficientnet.keras as efn\n",
    "\n",
    "#model evaluation\n",
    "from sklearn.metrics import accuracy_score,plot_confusion_matrix,classification_report,ConfusionMatrixDisplay"
   ]
  },
  {
   "cell_type": "markdown",
   "id": "055d52ab-bafc-446c-b04f-a15434c20fdd",
   "metadata": {},
   "source": [
    "### Parameter definitions"
   ]
  },
  {
   "cell_type": "code",
   "execution_count": 84,
   "id": "e6353447-be6e-46f3-879f-79f8a26b9326",
   "metadata": {},
   "outputs": [],
   "source": [
    "# Set all relevant parameters for the notebook. By convention, parameters are uppercase, while all the other variables follow Python's guidelines.\n",
    "BATCH_SIZE = 32\n",
    "TARGET_SIZE = (96, 96)\n",
    "SEED = 1234\n",
    "RANDOM = 42"
   ]
  },
  {
   "cell_type": "markdown",
   "id": "be7faa40-ff00-4bb0-8596-de75e7b2eccd",
   "metadata": {},
   "source": [
    "### Data import"
   ]
  },
  {
   "cell_type": "code",
   "execution_count": 85,
   "id": "89a9d51f-4612-4147-8ba3-1ade12b014ef",
   "metadata": {},
   "outputs": [],
   "source": [
    "# Load the TensorBoard notebook extension\n",
    "%load_ext tensorboard\n",
    "\n",
    "# Clear any logs from previous runs\n",
    "!rm -rf ./logs/ "
   ]
  },
  {
   "cell_type": "code",
   "execution_count": 86,
   "id": "86c98032-0906-4934-8934-f9d83c6ea4f4",
   "metadata": {},
   "outputs": [
    {
     "data": {
      "text/html": [
       "<div>\n",
       "<style scoped>\n",
       "    .dataframe tbody tr th:only-of-type {\n",
       "        vertical-align: middle;\n",
       "    }\n",
       "\n",
       "    .dataframe tbody tr th {\n",
       "        vertical-align: top;\n",
       "    }\n",
       "\n",
       "    .dataframe thead th {\n",
       "        text-align: right;\n",
       "    }\n",
       "</style>\n",
       "<table border=\"1\" class=\"dataframe\">\n",
       "  <thead>\n",
       "    <tr style=\"text-align: right;\">\n",
       "      <th></th>\n",
       "      <th>id</th>\n",
       "      <th>gender</th>\n",
       "      <th>baseColour</th>\n",
       "      <th>materialType</th>\n",
       "      <th>styleName</th>\n",
       "      <th>styleKind</th>\n",
       "    </tr>\n",
       "  </thead>\n",
       "  <tbody>\n",
       "    <tr>\n",
       "      <th>0</th>\n",
       "      <td>1100</td>\n",
       "      <td>male</td>\n",
       "      <td>red</td>\n",
       "      <td>cashmere</td>\n",
       "      <td>senator</td>\n",
       "      <td>long sleeve</td>\n",
       "    </tr>\n",
       "    <tr>\n",
       "      <th>1</th>\n",
       "      <td>1101</td>\n",
       "      <td>male</td>\n",
       "      <td>white</td>\n",
       "      <td>cashmere</td>\n",
       "      <td>senator</td>\n",
       "      <td>long sleeve</td>\n",
       "    </tr>\n",
       "    <tr>\n",
       "      <th>2</th>\n",
       "      <td>1102</td>\n",
       "      <td>male</td>\n",
       "      <td>red</td>\n",
       "      <td>cashmere</td>\n",
       "      <td>native</td>\n",
       "      <td>short sleeve</td>\n",
       "    </tr>\n",
       "    <tr>\n",
       "      <th>3</th>\n",
       "      <td>1103</td>\n",
       "      <td>male</td>\n",
       "      <td>yellow</td>\n",
       "      <td>cashmere</td>\n",
       "      <td>senator</td>\n",
       "      <td>long sleeve</td>\n",
       "    </tr>\n",
       "    <tr>\n",
       "      <th>4</th>\n",
       "      <td>1104</td>\n",
       "      <td>male</td>\n",
       "      <td>yellow</td>\n",
       "      <td>cashmere</td>\n",
       "      <td>senator</td>\n",
       "      <td>long sleeve</td>\n",
       "    </tr>\n",
       "    <tr>\n",
       "      <th>...</th>\n",
       "      <td>...</td>\n",
       "      <td>...</td>\n",
       "      <td>...</td>\n",
       "      <td>...</td>\n",
       "      <td>...</td>\n",
       "      <td>...</td>\n",
       "    </tr>\n",
       "    <tr>\n",
       "      <th>295</th>\n",
       "      <td>3295</td>\n",
       "      <td>male</td>\n",
       "      <td>white</td>\n",
       "      <td>cashmere</td>\n",
       "      <td>senator</td>\n",
       "      <td>long sleeve</td>\n",
       "    </tr>\n",
       "    <tr>\n",
       "      <th>296</th>\n",
       "      <td>3296</td>\n",
       "      <td>male</td>\n",
       "      <td>white</td>\n",
       "      <td>cashmere</td>\n",
       "      <td>senator</td>\n",
       "      <td>long sleeve</td>\n",
       "    </tr>\n",
       "    <tr>\n",
       "      <th>297</th>\n",
       "      <td>3297</td>\n",
       "      <td>male</td>\n",
       "      <td>red</td>\n",
       "      <td>cashmere</td>\n",
       "      <td>senator</td>\n",
       "      <td>long sleeve</td>\n",
       "    </tr>\n",
       "    <tr>\n",
       "      <th>298</th>\n",
       "      <td>3298</td>\n",
       "      <td>male</td>\n",
       "      <td>white</td>\n",
       "      <td>cashmere</td>\n",
       "      <td>senator</td>\n",
       "      <td>long sleeve</td>\n",
       "    </tr>\n",
       "    <tr>\n",
       "      <th>299</th>\n",
       "      <td>3299</td>\n",
       "      <td>male</td>\n",
       "      <td>red</td>\n",
       "      <td>cashmere</td>\n",
       "      <td>senator</td>\n",
       "      <td>long sleeve</td>\n",
       "    </tr>\n",
       "  </tbody>\n",
       "</table>\n",
       "<p>300 rows × 6 columns</p>\n",
       "</div>"
      ],
      "text/plain": [
       "       id gender baseColour materialType styleName     styleKind\n",
       "0    1100   male        red     cashmere   senator   long sleeve\n",
       "1    1101   male      white     cashmere   senator   long sleeve\n",
       "2    1102   male        red     cashmere    native  short sleeve\n",
       "3    1103   male     yellow     cashmere   senator   long sleeve\n",
       "4    1104   male     yellow     cashmere   senator   long sleeve\n",
       "..    ...    ...        ...          ...       ...           ...\n",
       "295  3295   male      white     cashmere   senator   long sleeve\n",
       "296  3296   male      white     cashmere   senator   long sleeve\n",
       "297  3297   male        red     cashmere   senator   long sleeve\n",
       "298  3298   male      white     cashmere   senator   long sleeve\n",
       "299  3299   male        red     cashmere   senator   long sleeve\n",
       "\n",
       "[300 rows x 6 columns]"
      ]
     },
     "execution_count": 86,
     "metadata": {},
     "output_type": "execute_result"
    }
   ],
   "source": [
    "image_dir = \"dataset/images/\"\n",
    "styles_data = pd.read_csv(\"dataset/style.csv\") #import the dataframe dataset containing the image features and class\n",
    "styles_data"
   ]
  },
  {
   "cell_type": "markdown",
   "id": "34b2ffab-9bcc-44d7-8335-00b0533612df",
   "metadata": {},
   "source": [
    "### Data Preprocessing"
   ]
  },
  {
   "cell_type": "code",
   "execution_count": 87,
   "id": "bd3b14be-8819-4d08-b280-01995199a93a",
   "metadata": {},
   "outputs": [
    {
     "data": {
      "text/html": [
       "<div>\n",
       "<style scoped>\n",
       "    .dataframe tbody tr th:only-of-type {\n",
       "        vertical-align: middle;\n",
       "    }\n",
       "\n",
       "    .dataframe tbody tr th {\n",
       "        vertical-align: top;\n",
       "    }\n",
       "\n",
       "    .dataframe thead th {\n",
       "        text-align: right;\n",
       "    }\n",
       "</style>\n",
       "<table border=\"1\" class=\"dataframe\">\n",
       "  <thead>\n",
       "    <tr style=\"text-align: right;\">\n",
       "      <th></th>\n",
       "      <th>id</th>\n",
       "      <th>gender</th>\n",
       "      <th>baseColour</th>\n",
       "      <th>materialType</th>\n",
       "      <th>styleName</th>\n",
       "      <th>styleKind</th>\n",
       "      <th>image</th>\n",
       "    </tr>\n",
       "  </thead>\n",
       "  <tbody>\n",
       "    <tr>\n",
       "      <th>0</th>\n",
       "      <td>1100</td>\n",
       "      <td>male</td>\n",
       "      <td>red</td>\n",
       "      <td>cashmere</td>\n",
       "      <td>senator</td>\n",
       "      <td>long sleeve</td>\n",
       "      <td>1100.png</td>\n",
       "    </tr>\n",
       "    <tr>\n",
       "      <th>1</th>\n",
       "      <td>1101</td>\n",
       "      <td>male</td>\n",
       "      <td>white</td>\n",
       "      <td>cashmere</td>\n",
       "      <td>senator</td>\n",
       "      <td>long sleeve</td>\n",
       "      <td>1101.png</td>\n",
       "    </tr>\n",
       "    <tr>\n",
       "      <th>2</th>\n",
       "      <td>1102</td>\n",
       "      <td>male</td>\n",
       "      <td>red</td>\n",
       "      <td>cashmere</td>\n",
       "      <td>native</td>\n",
       "      <td>short sleeve</td>\n",
       "      <td>1102.png</td>\n",
       "    </tr>\n",
       "    <tr>\n",
       "      <th>3</th>\n",
       "      <td>1103</td>\n",
       "      <td>male</td>\n",
       "      <td>yellow</td>\n",
       "      <td>cashmere</td>\n",
       "      <td>senator</td>\n",
       "      <td>long sleeve</td>\n",
       "      <td>1103.png</td>\n",
       "    </tr>\n",
       "    <tr>\n",
       "      <th>4</th>\n",
       "      <td>1104</td>\n",
       "      <td>male</td>\n",
       "      <td>yellow</td>\n",
       "      <td>cashmere</td>\n",
       "      <td>senator</td>\n",
       "      <td>long sleeve</td>\n",
       "      <td>1104.png</td>\n",
       "    </tr>\n",
       "    <tr>\n",
       "      <th>5</th>\n",
       "      <td>1105</td>\n",
       "      <td>male</td>\n",
       "      <td>red</td>\n",
       "      <td>cashmere</td>\n",
       "      <td>senator</td>\n",
       "      <td>long sleeve</td>\n",
       "      <td>1105.png</td>\n",
       "    </tr>\n",
       "    <tr>\n",
       "      <th>6</th>\n",
       "      <td>1106</td>\n",
       "      <td>male</td>\n",
       "      <td>red</td>\n",
       "      <td>cashmere</td>\n",
       "      <td>senator</td>\n",
       "      <td>long sleeve</td>\n",
       "      <td>1106.png</td>\n",
       "    </tr>\n",
       "    <tr>\n",
       "      <th>7</th>\n",
       "      <td>1107</td>\n",
       "      <td>male</td>\n",
       "      <td>yellow</td>\n",
       "      <td>cashmere</td>\n",
       "      <td>senator</td>\n",
       "      <td>long sleeve</td>\n",
       "      <td>1107.png</td>\n",
       "    </tr>\n",
       "    <tr>\n",
       "      <th>8</th>\n",
       "      <td>1108</td>\n",
       "      <td>male</td>\n",
       "      <td>red</td>\n",
       "      <td>cashmere</td>\n",
       "      <td>senator</td>\n",
       "      <td>long sleeve</td>\n",
       "      <td>1108.png</td>\n",
       "    </tr>\n",
       "    <tr>\n",
       "      <th>9</th>\n",
       "      <td>1109</td>\n",
       "      <td>male</td>\n",
       "      <td>yellow</td>\n",
       "      <td>cashmere</td>\n",
       "      <td>senator</td>\n",
       "      <td>mid sleeve</td>\n",
       "      <td>1109.png</td>\n",
       "    </tr>\n",
       "  </tbody>\n",
       "</table>\n",
       "</div>"
      ],
      "text/plain": [
       "     id gender baseColour materialType styleName     styleKind     image\n",
       "0  1100   male        red     cashmere   senator   long sleeve  1100.png\n",
       "1  1101   male      white     cashmere   senator   long sleeve  1101.png\n",
       "2  1102   male        red     cashmere    native  short sleeve  1102.png\n",
       "3  1103   male     yellow     cashmere   senator   long sleeve  1103.png\n",
       "4  1104   male     yellow     cashmere   senator   long sleeve  1104.png\n",
       "5  1105   male        red     cashmere   senator   long sleeve  1105.png\n",
       "6  1106   male        red     cashmere   senator   long sleeve  1106.png\n",
       "7  1107   male     yellow     cashmere   senator   long sleeve  1107.png\n",
       "8  1108   male        red     cashmere   senator   long sleeve  1108.png\n",
       "9  1109   male     yellow     cashmere   senator    mid sleeve  1109.png"
      ]
     },
     "execution_count": 87,
     "metadata": {},
     "output_type": "execute_result"
    }
   ],
   "source": [
    "#create another column[image] and fill with values by appending .png extension to the id column\n",
    "styles_data['image'] = styles_data.apply(lambda row: str(row['id']) + \".png\", axis=1)\n",
    "styles_data.head(10)"
   ]
  },
  {
   "cell_type": "code",
   "execution_count": 88,
   "id": "c8b02610-dced-48c3-8e2a-3ddc2b98bfa5",
   "metadata": {},
   "outputs": [
    {
     "data": {
      "text/html": [
       "<div>\n",
       "<style scoped>\n",
       "    .dataframe tbody tr th:only-of-type {\n",
       "        vertical-align: middle;\n",
       "    }\n",
       "\n",
       "    .dataframe tbody tr th {\n",
       "        vertical-align: top;\n",
       "    }\n",
       "\n",
       "    .dataframe thead th {\n",
       "        text-align: right;\n",
       "    }\n",
       "</style>\n",
       "<table border=\"1\" class=\"dataframe\">\n",
       "  <thead>\n",
       "    <tr style=\"text-align: right;\">\n",
       "      <th></th>\n",
       "      <th>filename</th>\n",
       "      <th>type</th>\n",
       "      <th>gender</th>\n",
       "      <th>color</th>\n",
       "      <th>stylename</th>\n",
       "      <th>description</th>\n",
       "    </tr>\n",
       "  </thead>\n",
       "  <tbody>\n",
       "    <tr>\n",
       "      <th>0</th>\n",
       "      <td>1100.png</td>\n",
       "      <td>cashmere</td>\n",
       "      <td>male</td>\n",
       "      <td>red</td>\n",
       "      <td>senator</td>\n",
       "      <td>long sleeve</td>\n",
       "    </tr>\n",
       "    <tr>\n",
       "      <th>1</th>\n",
       "      <td>1101.png</td>\n",
       "      <td>cashmere</td>\n",
       "      <td>male</td>\n",
       "      <td>white</td>\n",
       "      <td>senator</td>\n",
       "      <td>long sleeve</td>\n",
       "    </tr>\n",
       "    <tr>\n",
       "      <th>2</th>\n",
       "      <td>1102.png</td>\n",
       "      <td>cashmere</td>\n",
       "      <td>male</td>\n",
       "      <td>red</td>\n",
       "      <td>native</td>\n",
       "      <td>short sleeve</td>\n",
       "    </tr>\n",
       "    <tr>\n",
       "      <th>3</th>\n",
       "      <td>1103.png</td>\n",
       "      <td>cashmere</td>\n",
       "      <td>male</td>\n",
       "      <td>yellow</td>\n",
       "      <td>senator</td>\n",
       "      <td>long sleeve</td>\n",
       "    </tr>\n",
       "    <tr>\n",
       "      <th>4</th>\n",
       "      <td>1104.png</td>\n",
       "      <td>cashmere</td>\n",
       "      <td>male</td>\n",
       "      <td>yellow</td>\n",
       "      <td>senator</td>\n",
       "      <td>long sleeve</td>\n",
       "    </tr>\n",
       "    <tr>\n",
       "      <th>5</th>\n",
       "      <td>1105.png</td>\n",
       "      <td>cashmere</td>\n",
       "      <td>male</td>\n",
       "      <td>red</td>\n",
       "      <td>senator</td>\n",
       "      <td>long sleeve</td>\n",
       "    </tr>\n",
       "    <tr>\n",
       "      <th>6</th>\n",
       "      <td>1106.png</td>\n",
       "      <td>cashmere</td>\n",
       "      <td>male</td>\n",
       "      <td>red</td>\n",
       "      <td>senator</td>\n",
       "      <td>long sleeve</td>\n",
       "    </tr>\n",
       "    <tr>\n",
       "      <th>7</th>\n",
       "      <td>1107.png</td>\n",
       "      <td>cashmere</td>\n",
       "      <td>male</td>\n",
       "      <td>yellow</td>\n",
       "      <td>senator</td>\n",
       "      <td>long sleeve</td>\n",
       "    </tr>\n",
       "    <tr>\n",
       "      <th>8</th>\n",
       "      <td>1108.png</td>\n",
       "      <td>cashmere</td>\n",
       "      <td>male</td>\n",
       "      <td>red</td>\n",
       "      <td>senator</td>\n",
       "      <td>long sleeve</td>\n",
       "    </tr>\n",
       "    <tr>\n",
       "      <th>9</th>\n",
       "      <td>1109.png</td>\n",
       "      <td>cashmere</td>\n",
       "      <td>male</td>\n",
       "      <td>yellow</td>\n",
       "      <td>senator</td>\n",
       "      <td>mid sleeve</td>\n",
       "    </tr>\n",
       "  </tbody>\n",
       "</table>\n",
       "</div>"
      ],
      "text/plain": [
       "   filename      type gender   color stylename   description\n",
       "0  1100.png  cashmere   male     red   senator   long sleeve\n",
       "1  1101.png  cashmere   male   white   senator   long sleeve\n",
       "2  1102.png  cashmere   male     red    native  short sleeve\n",
       "3  1103.png  cashmere   male  yellow   senator   long sleeve\n",
       "4  1104.png  cashmere   male  yellow   senator   long sleeve\n",
       "5  1105.png  cashmere   male     red   senator   long sleeve\n",
       "6  1106.png  cashmere   male     red   senator   long sleeve\n",
       "7  1107.png  cashmere   male  yellow   senator   long sleeve\n",
       "8  1108.png  cashmere   male     red   senator   long sleeve\n",
       "9  1109.png  cashmere   male  yellow   senator    mid sleeve"
      ]
     },
     "execution_count": 88,
     "metadata": {},
     "output_type": "execute_result"
    }
   ],
   "source": [
    "#create a new dataframe for target features\n",
    "\"\"\"\n",
    "drop the id column as it is no longer needed\n",
    "make neccessary renaming convention for ease of analysis\n",
    "\"\"\"\n",
    "target_df = pd.DataFrame({\n",
    "    'filename': styles_data['image'],\n",
    "    'type': styles_data['materialType'],\n",
    "    'gender':styles_data['gender'],\n",
    "    'color':styles_data['baseColour'],\n",
    "    'stylename': styles_data['styleName'],\n",
    "    'description': styles_data['styleKind']\n",
    "})\n",
    "\n",
    "target_df.head(10)"
   ]
  },
  {
   "cell_type": "code",
   "execution_count": 89,
   "id": "4753dd9d-a0bb-45ca-8624-d5c005d16416",
   "metadata": {},
   "outputs": [],
   "source": [
    "target_df.to_csv('dataset/rec_style.csv',index=False)"
   ]
  },
  {
   "cell_type": "markdown",
   "id": "adbf5f04-ac97-476e-ae61-58d1be83cb08",
   "metadata": {},
   "source": [
    "### Exploratory Data Analysis\n",
    "1. check for missing values\n",
    "2. check distribution of the dataset\n",
    "3. check for class balance\n",
    "4. visualize target variable for relationship to features\n",
    "5. check for VIF"
   ]
  },
  {
   "cell_type": "code",
   "execution_count": 7,
   "id": "e91d63ca-e922-4a6c-bc57-9b5fd807bf4b",
   "metadata": {},
   "outputs": [
    {
     "data": {
      "text/plain": [
       "filename       0\n",
       "type           0\n",
       "gender         0\n",
       "color          0\n",
       "stylename      0\n",
       "description    0\n",
       "dtype: int64"
      ]
     },
     "execution_count": 7,
     "metadata": {},
     "output_type": "execute_result"
    }
   ],
   "source": [
    "# 1. Check fir missing values\n",
    "target_df.isnull().sum()"
   ]
  },
  {
   "cell_type": "code",
   "execution_count": 8,
   "id": "6a827c18-b43d-40dd-9111-4492f8cf9805",
   "metadata": {},
   "outputs": [
    {
     "name": "stdout",
     "output_type": "stream",
     "text": [
      "<class 'pandas.core.frame.DataFrame'>\n",
      "RangeIndex: 300 entries, 0 to 299\n",
      "Data columns (total 6 columns):\n",
      " #   Column       Non-Null Count  Dtype \n",
      "---  ------       --------------  ----- \n",
      " 0   filename     300 non-null    object\n",
      " 1   type         300 non-null    object\n",
      " 2   gender       300 non-null    object\n",
      " 3   color        300 non-null    object\n",
      " 4   stylename    300 non-null    object\n",
      " 5   description  300 non-null    object\n",
      "dtypes: object(6)\n",
      "memory usage: 14.2+ KB\n"
     ]
    }
   ],
   "source": [
    "target_df.info()"
   ]
  },
  {
   "cell_type": "code",
   "execution_count": 9,
   "id": "51648ce1-2030-410b-a3a2-b124ac67ea5b",
   "metadata": {},
   "outputs": [
    {
     "data": {
      "text/html": [
       "<div>\n",
       "<style scoped>\n",
       "    .dataframe tbody tr th:only-of-type {\n",
       "        vertical-align: middle;\n",
       "    }\n",
       "\n",
       "    .dataframe tbody tr th {\n",
       "        vertical-align: top;\n",
       "    }\n",
       "\n",
       "    .dataframe thead th {\n",
       "        text-align: right;\n",
       "    }\n",
       "</style>\n",
       "<table border=\"1\" class=\"dataframe\">\n",
       "  <thead>\n",
       "    <tr style=\"text-align: right;\">\n",
       "      <th></th>\n",
       "      <th>count</th>\n",
       "      <th>unique</th>\n",
       "      <th>top</th>\n",
       "      <th>freq</th>\n",
       "    </tr>\n",
       "  </thead>\n",
       "  <tbody>\n",
       "    <tr>\n",
       "      <th>filename</th>\n",
       "      <td>300</td>\n",
       "      <td>300</td>\n",
       "      <td>1229.png</td>\n",
       "      <td>1</td>\n",
       "    </tr>\n",
       "    <tr>\n",
       "      <th>type</th>\n",
       "      <td>300</td>\n",
       "      <td>2</td>\n",
       "      <td>cashmere</td>\n",
       "      <td>297</td>\n",
       "    </tr>\n",
       "    <tr>\n",
       "      <th>gender</th>\n",
       "      <td>300</td>\n",
       "      <td>1</td>\n",
       "      <td>male</td>\n",
       "      <td>300</td>\n",
       "    </tr>\n",
       "    <tr>\n",
       "      <th>color</th>\n",
       "      <td>300</td>\n",
       "      <td>3</td>\n",
       "      <td>white</td>\n",
       "      <td>100</td>\n",
       "    </tr>\n",
       "    <tr>\n",
       "      <th>stylename</th>\n",
       "      <td>300</td>\n",
       "      <td>3</td>\n",
       "      <td>senator</td>\n",
       "      <td>288</td>\n",
       "    </tr>\n",
       "    <tr>\n",
       "      <th>description</th>\n",
       "      <td>300</td>\n",
       "      <td>3</td>\n",
       "      <td>long sleeve</td>\n",
       "      <td>222</td>\n",
       "    </tr>\n",
       "  </tbody>\n",
       "</table>\n",
       "</div>"
      ],
      "text/plain": [
       "            count unique          top freq\n",
       "filename      300    300     1229.png    1\n",
       "type          300      2     cashmere  297\n",
       "gender        300      1         male  300\n",
       "color         300      3        white  100\n",
       "stylename     300      3      senator  288\n",
       "description   300      3  long sleeve  222"
      ]
     },
     "execution_count": 9,
     "metadata": {},
     "output_type": "execute_result"
    }
   ],
   "source": [
    "target_df.describe().T #check the statistical decription of the dataset"
   ]
  },
  {
   "cell_type": "code",
   "execution_count": 10,
   "id": "59c13623-3ae0-4eac-b610-f2c641760988",
   "metadata": {},
   "outputs": [
    {
     "data": {
      "text/plain": [
       "<seaborn.axisgrid.FacetGrid at 0x7fa0b64ff760>"
      ]
     },
     "execution_count": 10,
     "metadata": {},
     "output_type": "execute_result"
    },
    {
     "data": {
      "image/png": "[encoded data removed]",
      "text/plain": [
       "<Figure size 433.875x360 with 1 Axes>"
      ]
     },
     "metadata": {
      "needs_background": "light"
     },
     "output_type": "display_data"
    }
   ],
   "source": [
    "# 2. check the distribution of a dataset\n",
    "sns.catplot(x=\"gender\", y=\"color\",kind=\"swarm\",hue=\"stylename\", data=target_df)"
   ]
  },
  {
   "cell_type": "code",
   "execution_count": 11,
   "id": "c900d0f9-6bcd-4736-bedb-c57d9255f329",
   "metadata": {},
   "outputs": [
    {
     "data": {
      "text/plain": [
       "<seaborn.axisgrid.FacetGrid at 0x7fa0b6746850>"
      ]
     },
     "execution_count": 11,
     "metadata": {},
     "output_type": "execute_result"
    },
    {
     "data": {
      "image/png": "[encoded data removed]",
      "text/plain": [
       "<Figure size 433.875x360 with 1 Axes>"
      ]
     },
     "metadata": {
      "needs_background": "light"
     },
     "output_type": "display_data"
    }
   ],
   "source": [
    "#check the distribution of a dataset\n",
    "sns.catplot(x=\"type\", y=\"color\",kind=\"swarm\",hue=\"stylename\", data=target_df)"
   ]
  },
  {
   "cell_type": "code",
   "execution_count": 12,
   "id": "9377b650-9c50-4bad-b7ae-ce3b8f63e868",
   "metadata": {},
   "outputs": [
    {
     "name": "stdout",
     "output_type": "stream",
     "text": [
      "color\n",
      "red       100\n",
      "white     100\n",
      "yellow    100\n",
      "dtype: int64\n"
     ]
    }
   ],
   "source": [
    "# 3. Counting the occurrences of each unique category\n",
    "GroupedData=target_df.groupby(by='color').size()\n",
    "print(GroupedData)"
   ]
  },
  {
   "cell_type": "code",
   "execution_count": 13,
   "id": "87fcb1f3-e00d-4a5a-a4e9-5db40caac72c",
   "metadata": {},
   "outputs": [
    {
     "data": {
      "text/plain": [
       "<AxesSubplot:xlabel='color'>"
      ]
     },
     "execution_count": 13,
     "metadata": {},
     "output_type": "execute_result"
    },
    {
     "data": {
      "image/png": "[encoded data removed]",
      "text/plain": [
       "<Figure size 432x288 with 1 Axes>"
      ]
     },
     "metadata": {
      "needs_background": "light"
     },
     "output_type": "display_data"
    }
   ],
   "source": [
    "# Generating a bar chart for a single column\n",
    "%matplotlib inline\n",
    "GroupedData.plot.bar()"
   ]
  },
  {
   "cell_type": "code",
   "execution_count": 14,
   "id": "59ab67bb-8086-4ca3-8bac-83d172c9cdf8",
   "metadata": {},
   "outputs": [
    {
     "data": {
      "image/png": "[encoded data removed]",
      "text/plain": [
       "<Figure size 432x288 with 1 Axes>"
      ]
     },
     "metadata": {
      "needs_background": "light"
     },
     "output_type": "display_data"
    }
   ],
   "source": [
    "sns.countplot(x='color', data=target_df)\n",
    "plt.title('Data Classes')\n",
    "plt.show()"
   ]
  },
  {
   "cell_type": "markdown",
   "id": "4827bfd0-82a3-4317-bfd5-859386a7df6f",
   "metadata": {},
   "source": [
    "The barchart helps to answr a few questions: \n",
    "\n",
    "What is the central tendency in the data (Mode value)?\n",
    "The imbalance in data, any value which is present very few times?\n",
    "\n",
    "The ideal output would be that each bar is of the same height(frequency). This means each unique value is present an equal number of times, hence the data has enough values for each type of value to learn from. This is known as a balanced data.\n",
    "\n",
    "\n",
    "<b>inference on our dataset</b>: data class is balanced"
   ]
  },
  {
   "cell_type": "code",
   "execution_count": 15,
   "id": "0c5bb09b-405a-48ba-8a0f-659fd167e7db",
   "metadata": {},
   "outputs": [
    {
     "name": "stdout",
     "output_type": "stream",
     "text": [
      "3 unique colours \n",
      "\n",
      "They are:  ['red', 'white', 'yellow']\n"
     ]
    }
   ],
   "source": [
    "#create a list of unique values in the color column\n",
    "classes = target_df['color'].unique().tolist()\n",
    "total_class = len(classes) #class length for unconvoluted dense unit\n",
    "print(total_class, \"unique colours\",\"\\n\")\n",
    "print(\"They are: \",classes)"
   ]
  },
  {
   "cell_type": "markdown",
   "id": "557afcf5-d8ed-4d2a-af52-c25cddfc0b89",
   "metadata": {},
   "source": [
    "#Hot-encode numeric values to identify unique items in color column\n",
    "target_df['class'] = target_df['color'].apply(lambda x: classes.index(x) if x in classes else 0)\n",
    "target_df"
   ]
  },
  {
   "cell_type": "markdown",
   "id": "9ec71241-c4f4-4e40-8a28-2ca05fcf8ceb",
   "metadata": {},
   "source": [
    "target_df.hist() #histogram to visualize the data classes"
   ]
  },
  {
   "cell_type": "markdown",
   "id": "cba60fab-01ae-4284-93af-2d26a9bdf734",
   "metadata": {},
   "source": [
    "target_df['class'].value_counts().index #check the count of class values"
   ]
  },
  {
   "cell_type": "markdown",
   "id": "dee1e483-118c-4ec4-a477-38ded7e65bab",
   "metadata": {},
   "source": [
    "### Image Preprocess and Augmentation"
   ]
  },
  {
   "cell_type": "code",
   "execution_count": 16,
   "id": "c9e60c78-1c19-4352-8472-d998bfc21580",
   "metadata": {},
   "outputs": [
    {
     "name": "stdout",
     "output_type": "stream",
     "text": [
      "image size is: 96 x 96 on 3 channels\n"
     ]
    },
    {
     "data": {
      "text/plain": [
       "<matplotlib.image.AxesImage at 0x7fa0b7513940>"
      ]
     },
     "execution_count": 16,
     "metadata": {},
     "output_type": "execute_result"
    },
    {
     "data": {
      "image/png": "[encoded data removed]",
      "text/plain": [
       "<Figure size 432x288 with 1 Axes>"
      ]
     },
     "metadata": {
      "needs_background": "light"
     },
     "output_type": "display_data"
    }
   ],
   "source": [
    "image_path=image_dir+target_df.loc[0,'filename']\n",
    "image = cv2.imread(image_path)\n",
    "image = cv2.cvtColor(image, cv2.COLOR_BGR2RGB)\n",
    "height, width, channels = image.shape\n",
    "print(\"image size is: {} x {} on {} channels\".format(height,width,channels))\n",
    "plt.imshow(image)"
   ]
  },
  {
   "cell_type": "code",
   "execution_count": 17,
   "id": "bf45cdf3-5f1d-4253-b973-a04d8406f7b4",
   "metadata": {},
   "outputs": [],
   "source": [
    "train_datagen = ImageDataGenerator(\n",
    "        rescale=1./255,\n",
    "        shear_range=0.2,brightness_range=[0.3,1.5],\n",
    "        zoom_range=0.2,fill_mode=\"nearest\",\n",
    "        horizontal_flip=True,validation_split=0.1)"
   ]
  },
  {
   "cell_type": "code",
   "execution_count": 18,
   "id": "019c4b15-3cc2-41fe-944d-b90cb806dbc1",
   "metadata": {},
   "outputs": [
    {
     "name": "stdout",
     "output_type": "stream",
     "text": [
      "Found 270 validated image filenames belonging to 3 classes.\n"
     ]
    }
   ],
   "source": [
    "train_set = train_datagen.flow_from_dataframe(\n",
    "    target_df, directory=image_dir, x_col='filename', y_col='color',target_size=TARGET_SIZE, color_mode='rgb',\n",
    "    class_mode='categorical', batch_size=BATCH_SIZE, shuffle=True,\n",
    "    seed=SEED, subset=\"training\", interpolation='nearest')"
   ]
  },
  {
   "cell_type": "code",
   "execution_count": 19,
   "id": "f3cdefbf-81f9-4755-a933-c827091ba890",
   "metadata": {},
   "outputs": [
    {
     "name": "stdout",
     "output_type": "stream",
     "text": [
      "Found 30 validated image filenames belonging to 3 classes.\n"
     ]
    }
   ],
   "source": [
    "valid_set = train_datagen.flow_from_dataframe(\n",
    "    target_df, directory=image_dir, x_col='filename', y_col='color',\n",
    "    target_size=TARGET_SIZE, color_mode='rgb',\n",
    "    class_mode='categorical', batch_size=BATCH_SIZE, shuffle=True,\n",
    "    seed=SEED, subset=\"validation\", interpolation='nearest')"
   ]
  },
  {
   "cell_type": "code",
   "execution_count": 20,
   "id": "63b5e20f-1535-4bcd-91df-29271c0cb8ca",
   "metadata": {},
   "outputs": [],
   "source": [
    "labels = train_set.class_indices\n",
    "#pickle and save classes\n",
    "pickle_out = open('saved_model/labels.pickle', 'wb')   #opening a file for the y variable\n",
    "pickle.dump(labels, pickle_out)            #dumping and storing contents in the opened file\n",
    "pickle_out.close()                    #closing the file "
   ]
  },
  {
   "cell_type": "markdown",
   "id": "666abb64-94da-483e-b552-002c5d332e68",
   "metadata": {},
   "source": [
    "### Modelling"
   ]
  },
  {
   "cell_type": "markdown",
   "id": "1218a12d-3560-44c8-b6a7-3718db214bf0",
   "metadata": {},
   "source": [
    "CNN is a branch of Neural Networks that are used in computer vision tasks for\n",
    "image analysis. The network specializes on pattern detection where it detects patterns and makes sense of them. \n",
    "\n",
    "**Some common applications of Neural Networks are :**\n",
    "\n",
    "*   Facial Recognition\n",
    "*   Detection of diseases\n",
    "*   Self-driving cars\n",
    "\n",
    "**Vocabulary used in CNN**\n",
    "\n",
    "*   Filters - a matrix initiated by numbers that is able to detect special features. The matrix slides through the input layer in an attempt to detect patterns i.e it is the basis of feature learning\n",
    "*   Feature maps - A matrix of numbers obtained by adding multiple filter outputs to put together learned features\n",
    "*   Stride - steps taken when sliding through an image, both in horizontal and vertical directions separately\n",
    "*  Padding - adding one pixel all around the edges to take care of shrinking obtained from a convolution operation  \n",
    "*  Activation function - a function to introduce non - linearity to the data, most real world cases are non - linear\n",
    "*  Pooling - downsampling operation on each feature maps.\n",
    "*  \n",
    "\n",
    "**Steps to a basic convolution Operation**\n",
    "\n",
    "1. Apply a set of weights to the input (pixels)\n",
    "2. Slide a filter through the weights to extract local features\n",
    "3. Use multiple filters to extract multiple features\n",
    "4. Spatially share parameters of each filter to the feature map\n",
    "\n",
    "**How do Convolution Neural Networks work?**\n",
    "\n",
    "              _step 1_: Input \n",
    "              _step 2_: Feature learning\n",
    "              _step 3_: Classification\n",
    "\n",
    "**step 1:**\n",
    "An image is fed into the model where it is converted to pixels\n",
    "\n",
    "**step 2:**\n",
    "*   learn features in input image through convolution\n",
    "*   Introduce non-linearity through activation function\n",
    "*   Reduce dimensionality and preserve spatial invariance through pooling\n",
    "\n",
    "**step 3**: Use the learned features to classify our image\n",
    "\n",
    "*   Flattening - The features that have been learned are output as high level features of input hence they need to be flattened \n",
    "*   Fully connected layers/ dense layers - uses these features to classify an image \n",
    "*   Express output as a probability of image belonging to a particular class\n",
    "*   Output layer - the last layer of the neural network\n",
    "\n",
    "**Advantages of Neural Networks**\n",
    "\n",
    "*  Preserve the spatial orientation of the features\n",
    "*  Reduced number of parameters\n"
   ]
  },
  {
   "cell_type": "markdown",
   "id": "cc440acc-3ec5-4228-9142-a1301812a9c0",
   "metadata": {},
   "source": [
    "![filters.png](data:image/png;base64,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)"
   ]
  },
  {
   "cell_type": "code",
   "execution_count": 21,
   "id": "96a15654-27ef-40f0-8448-1456f2c4ca6c",
   "metadata": {},
   "outputs": [],
   "source": [
    "#Learning Rate\n",
    "lrr= ReduceLROnPlateau(monitor='val_accuracy', factor=.01, patience=3, min_lr=1e-5)\n",
    "EarStp= EarlyStopping(monitor='val_loss',patience=5)"
   ]
  },
  {
   "cell_type": "code",
   "execution_count": 22,
   "id": "bf0cca8f-28cb-446d-b13a-557b1472f76d",
   "metadata": {},
   "outputs": [],
   "source": [
    "# define cnn model\n",
    "def Ris():\n",
    "    model = Sequential()\n",
    "    model.add(Conv2D(32, (3, 3), activation='relu', kernel_initializer='he_uniform', padding='same', input_shape=(96,96, 3)))\n",
    "    model.add(BatchNormalization())\n",
    "    model.add(Conv2D(32, (3, 3), activation='relu', kernel_initializer='he_uniform', padding='same'))\n",
    "    model.add(BatchNormalization())\n",
    "    model.add(MaxPooling2D((2, 2)))\n",
    "    model.add(Dropout(0.7))\n",
    "    model.add(Flatten())\n",
    "    model.add(Dense(64, activation='relu', kernel_initializer='he_uniform'))\n",
    "    model.add(BatchNormalization())\n",
    "    model.add(Dropout(0.5))\n",
    "    model.add(Dense(units = total_class, activation = 'softmax'))\n",
    "\t# compile model\n",
    "    opt = Adam(lr=0.001)\n",
    "    model.compile(optimizer=opt, loss='categorical_crossentropy', metrics=['accuracy'])\n",
    "    return model"
   ]
  },
  {
   "cell_type": "code",
   "execution_count": 23,
   "id": "b28c9241-6502-42cc-8425-f45aa0bc86d9",
   "metadata": {},
   "outputs": [
    {
     "name": "stdout",
     "output_type": "stream",
     "text": [
      "Model: \"sequential\"\n",
      "_________________________________________________________________\n",
      " Layer (type)                Output Shape              Param #   \n",
      "=================================================================\n",
      " conv2d (Conv2D)             (None, 96, 96, 32)        896       \n",
      "                                                                 \n",
      " batch_normalization (BatchN  (None, 96, 96, 32)       128       \n",
      " ormalization)                                                   \n",
      "                                                                 \n",
      " conv2d_1 (Conv2D)           (None, 96, 96, 32)        9248      \n",
      "                                                                 \n",
      " batch_normalization_1 (Batc  (None, 96, 96, 32)       128       \n",
      " hNormalization)                                                 \n",
      "                                                                 \n",
      " max_pooling2d (MaxPooling2D  (None, 48, 48, 32)       0         \n",
      " )                                                               \n",
      "                                                                 \n",
      " dropout (Dropout)           (None, 48, 48, 32)        0         \n",
      "                                                                 \n",
      " flatten (Flatten)           (None, 73728)             0         \n",
      "                                                                 \n",
      " dense (Dense)               (None, 64)                4718656   \n",
      "                                                                 \n",
      " batch_normalization_2 (Batc  (None, 64)               256       \n",
      " hNormalization)                                                 \n",
      "                                                                 \n",
      " dropout_1 (Dropout)         (None, 64)                0         \n",
      "                                                                 \n",
      " dense_1 (Dense)             (None, 3)                 195       \n",
      "                                                                 \n",
      "=================================================================\n",
      "Total params: 4,729,507\n",
      "Trainable params: 4,729,251\n",
      "Non-trainable params: 256\n",
      "_________________________________________________________________\n"
     ]
    }
   ],
   "source": [
    "model = Ris()\n",
    "model.summary()"
   ]
  },
  {
   "cell_type": "markdown",
   "id": "9402903b-8953-483b-9948-92fe2793e199",
   "metadata": {},
   "source": [
    "valid_set.n\n",
    "STEP_SIZE_TRAIN=train_set.n//train_set.batch_size\n",
    "STEP_SIZE_VALID=valid_set.n//valid_set.batch_size"
   ]
  },
  {
   "cell_type": "code",
   "execution_count": 24,
   "id": "d3da81f2-b07e-4cad-b077-5d1a8c066f28",
   "metadata": {},
   "outputs": [],
   "source": [
    "# plot diagnostic learning curves\n",
    "def summarize_diagnostics(history):\n",
    "    \n",
    "\t# plot loss\n",
    "    plt.figure(figsize=(12, 9))\n",
    "    plt.subplot(2, 2, 1)\n",
    "    plt.title('Cross Entropy Loss')\n",
    "    plt.plot(history.history['loss'], color='blue', label='train')\n",
    "    plt.plot(history.history['val_loss'], color='orange', label='test')\n",
    "    plt.ylabel('loss')\n",
    "    plt.xlabel('epoch')\n",
    "    plt.legend(loc='upper right')\n",
    "    #plt.rcParams[\"figure.facecolor\"]='white'\n",
    "    # save plot to file\n",
    "    filename = \"loss_epoch\"+str(loss)\n",
    "    plt.savefig(\"saved_model/\"+filename + '_plot.png')\n",
    "    plt.show()\n",
    "    \n",
    "\t# plot accuracy\n",
    "    plt.figure(figsize=(12, 9))\n",
    "    plt.subplot(2, 2, 2)\n",
    "    plt.title('Classification Accuracy')\n",
    "    plt.plot(history.history['accuracy'], color='blue', label='train')\n",
    "    plt.plot(history.history['val_accuracy'], color='orange', label='test')\n",
    "    plt.ylabel('accuracy')\n",
    "    plt.xlabel('epoch')\n",
    "    plt.legend(loc='lower right')\n",
    "    #plt.rcParams[\"figure.facecolor\"]='white'\n",
    "\t# save plot to file\n",
    "    filename = \"acc_epoch\"+str(acc)\n",
    "    plt.savefig(\"saved_model/\"+filename + '_plot.png')\n",
    "    plt.show()\n",
    "    plt.close()"
   ]
  },
  {
   "cell_type": "code",
   "execution_count": 25,
   "id": "61807e9d-d870-421c-a733-b63b7c878da5",
   "metadata": {},
   "outputs": [
    {
     "name": "stdout",
     "output_type": "stream",
     "text": [
      "Training...\n",
      "Epoch 1/20\n",
      "9/9 [==============================] - 8s 725ms/step - loss: 0.4692 - accuracy: 0.8259 - val_loss: 1.7313 - val_accuracy: 0.2667\n",
      "Epoch 2/20\n",
      "9/9 [==============================] - 6s 676ms/step - loss: 0.1145 - accuracy: 0.9630 - val_loss: 1.9188 - val_accuracy: 0.3000\n",
      "Epoch 3/20\n",
      "9/9 [==============================] - 6s 684ms/step - loss: 0.0649 - accuracy: 0.9815 - val_loss: 1.3355 - val_accuracy: 0.3333\n",
      "Epoch 4/20\n",
      "9/9 [==============================] - 6s 689ms/step - loss: 0.0635 - accuracy: 0.9889 - val_loss: 1.5149 - val_accuracy: 0.3333\n",
      "Epoch 5/20\n",
      "9/9 [==============================] - 6s 686ms/step - loss: 0.0531 - accuracy: 0.9852 - val_loss: 1.1719 - val_accuracy: 0.3333\n",
      "Epoch 6/20\n",
      "9/9 [==============================] - 7s 696ms/step - loss: 0.0728 - accuracy: 0.9741 - val_loss: 0.7739 - val_accuracy: 0.6000\n",
      "Epoch 7/20\n",
      "9/9 [==============================] - 7s 700ms/step - loss: 0.0176 - accuracy: 0.9963 - val_loss: 0.7745 - val_accuracy: 0.5667\n",
      "Epoch 8/20\n",
      "9/9 [==============================] - 6s 693ms/step - loss: 0.0238 - accuracy: 0.9963 - val_loss: 0.6689 - val_accuracy: 0.6000\n",
      "Epoch 9/20\n",
      "9/9 [==============================] - 6s 691ms/step - loss: 0.0280 - accuracy: 0.9889 - val_loss: 0.5489 - val_accuracy: 0.6667\n",
      "Epoch 10/20\n",
      "9/9 [==============================] - 6s 675ms/step - loss: 0.0344 - accuracy: 0.9889 - val_loss: 0.6612 - val_accuracy: 0.7000\n",
      "Epoch 11/20\n",
      "9/9 [==============================] - 7s 772ms/step - loss: 0.0347 - accuracy: 0.9815 - val_loss: 0.4391 - val_accuracy: 0.8333\n",
      "Epoch 12/20\n",
      "9/9 [==============================] - 6s 683ms/step - loss: 0.0374 - accuracy: 0.9926 - val_loss: 0.4126 - val_accuracy: 0.8667\n",
      "Epoch 13/20\n",
      "9/9 [==============================] - 6s 697ms/step - loss: 0.0213 - accuracy: 0.9963 - val_loss: 0.3763 - val_accuracy: 0.9000\n",
      "Epoch 14/20\n",
      "9/9 [==============================] - 7s 713ms/step - loss: 0.0124 - accuracy: 1.0000 - val_loss: 0.3532 - val_accuracy: 0.8667\n",
      "Epoch 15/20\n",
      "9/9 [==============================] - 6s 691ms/step - loss: 0.0111 - accuracy: 0.9963 - val_loss: 0.4195 - val_accuracy: 0.8667\n",
      "Epoch 16/20\n",
      "9/9 [==============================] - 6s 640ms/step - loss: 0.0157 - accuracy: 0.9963 - val_loss: 0.1760 - val_accuracy: 1.0000\n",
      "Epoch 17/20\n",
      "9/9 [==============================] - 6s 677ms/step - loss: 0.0070 - accuracy: 1.0000 - val_loss: 0.1382 - val_accuracy: 0.9667\n",
      "Epoch 18/20\n",
      "9/9 [==============================] - 6s 672ms/step - loss: 0.0220 - accuracy: 0.9963 - val_loss: 0.1205 - val_accuracy: 0.9667\n",
      "Epoch 19/20\n",
      "9/9 [==============================] - 6s 684ms/step - loss: 0.0116 - accuracy: 0.9963 - val_loss: 0.0985 - val_accuracy: 1.0000\n",
      "Epoch 20/20\n",
      "9/9 [==============================] - 6s 740ms/step - loss: 0.0140 - accuracy: 1.0000 - val_loss: 0.0670 - val_accuracy: 1.0000\n"
     ]
    }
   ],
   "source": [
    "# fit model\n",
    "print('Training...')\n",
    "history = model.fit(train_set,\n",
    "                    validation_data=valid_set,\n",
    "                    epochs=20,batch_size=BATCH_SIZE,verbose=1)"
   ]
  },
  {
   "cell_type": "code",
   "execution_count": 27,
   "id": "0e5b7a94-997f-484b-90f6-090d7b815973",
   "metadata": {},
   "outputs": [
    {
     "data": {
      "image/png": "[encoded data removed]",
      "text/plain": [
       "<Figure size 864x648 with 1 Axes>"
      ]
     },
     "metadata": {
      "needs_background": "light"
     },
     "output_type": "display_data"
    },
    {
     "data": {
      "image/png": "[encoded data removed]",
      "text/plain": [
       "<Figure size 864x648 with 1 Axes>"
      ]
     },
     "metadata": {
      "needs_background": "light"
     },
     "output_type": "display_data"
    }
   ],
   "source": [
    "# learning curves\n",
    "summarize_diagnostics(history)\n",
    "#entry point, run the test harness"
   ]
  },
  {
   "cell_type": "code",
   "execution_count": 3,
   "id": "2aa203c8-0cc4-44f0-971a-819428f70b9d",
   "metadata": {},
   "outputs": [
    {
     "ename": "NameError",
     "evalue": "name 'model' is not defined",
     "output_type": "error",
     "traceback": [
      "\u001b[0;31m---------------------------------------------------------------------------\u001b[0m",
      "\u001b[0;31mNameError\u001b[0m                                 Traceback (most recent call last)",
      "\u001b[0;32m<ipython-input-3-c99f2f9d1f47>\u001b[0m in \u001b[0;36m<module>\u001b[0;34m\u001b[0m\n\u001b[0;32m----> 1\u001b[0;31m \u001b[0mmodel\u001b[0m\u001b[0;34m.\u001b[0m\u001b[0msave\u001b[0m\u001b[0;34m(\u001b[0m\u001b[0;34m\"saved_model/ris_val_0.5.h5\"\u001b[0m\u001b[0;34m)\u001b[0m\u001b[0;34m\u001b[0m\u001b[0;34m\u001b[0m\u001b[0m\n\u001b[0m",
      "\u001b[0;31mNameError\u001b[0m: name 'model' is not defined"
     ]
    }
   ],
   "source": [
    "model.save(\"saved_model/ris_val_0.5.h5\")"
   ]
  },
  {
   "cell_type": "markdown",
   "id": "5d4abf20-d236-4f7e-b945-6b259a61c100",
   "metadata": {},
   "source": [
    "### Evaluation"
   ]
  },
  {
   "cell_type": "code",
   "execution_count": 26,
   "id": "3f95c549-2211-48e5-887b-6a5376539f11",
   "metadata": {},
   "outputs": [
    {
     "name": "stdout",
     "output_type": "stream",
     "text": [
      "1/1 [==============================] - 0s 299ms/step - loss: 0.0564 - accuracy: 1.0000\n",
      "Test loss: 5.64%\n",
      "Test accuracy: 100.00%\n"
     ]
    }
   ],
   "source": [
    "# evaluate model\n",
    "loss, acc = model.evaluate(valid_set, verbose=1)\n",
    "print('Test loss:', \"{:0.2f}%\".format(loss * 100))\n",
    "print('Test accuracy:', \"{:0.2f}%\".format(acc * 100))"
   ]
  },
  {
   "cell_type": "code",
   "execution_count": 4,
   "id": "6d37568a-fea7-4f81-bb4b-8d7fae9e2b5d",
   "metadata": {},
   "outputs": [],
   "source": [
    "ris_model = models.load_model('saved_model/ris_val_0.5.h5')"
   ]
  },
  {
   "cell_type": "code",
   "execution_count": 46,
   "id": "f686f274-ba3d-4c7b-92c9-61ecba62b3ce",
   "metadata": {},
   "outputs": [
    {
     "data": {
      "text/plain": [
       "array([0, 1, 1, 0, 0, 0, 1, 2, 0, 2, 0, 0, 0, 0, 1, 0, 0, 2, 0, 2, 2, 1,\n",
       "       2, 2, 0, 0, 0, 0, 2, 2])"
      ]
     },
     "execution_count": 46,
     "metadata": {},
     "output_type": "execute_result"
    }
   ],
   "source": [
    "y_pred=ris_model.predict_generator(valid_set)\n",
    "pred= np.argmax(y_pred,axis=1)\n",
    "pred"
   ]
  },
  {
   "cell_type": "code",
   "execution_count": 63,
   "id": "9935c7ad-e30e-4cef-93ed-96365f34126b",
   "metadata": {},
   "outputs": [
    {
     "data": {
      "image/png": "[encoded data removed]",
      "text/plain": [
       "<Figure size 432x288 with 2 Axes>"
      ]
     },
     "metadata": {
      "needs_background": "light"
     },
     "output_type": "display_data"
    }
   ],
   "source": [
    "cm = confusion_matrix(valid_set.classes,pred)\n",
    "disp=ConfusionMatrixDisplay(confusion_matrix=cm,display_labels=['red','white','yellow'])\n",
    "disp.plot(cmap=plt.cm.Blues)\n",
    "plt.show()"
   ]
  },
  {
   "cell_type": "code",
   "execution_count": 65,
   "id": "e0051003-bbac-4e24-8dd6-1891fdb91d05",
   "metadata": {},
   "outputs": [
    {
     "name": "stdout",
     "output_type": "stream",
     "text": [
      "              precision    recall  f1-score   support\n",
      "\n",
      "           0       0.69      0.69      0.69        16\n",
      "           1       0.20      0.20      0.20         5\n",
      "           2       0.67      0.67      0.67         9\n",
      "\n",
      "    accuracy                           0.60        30\n",
      "   macro avg       0.52      0.52      0.52        30\n",
      "weighted avg       0.60      0.60      0.60        30\n",
      "\n"
     ]
    }
   ],
   "source": [
    "print(classification_report(valid_set.classes,pred))"
   ]
  },
  {
   "cell_type": "markdown",
   "id": "2ad4928d-a91f-40a0-be08-e598694b980d",
   "metadata": {},
   "source": [
    "### Prediction"
   ]
  },
  {
   "cell_type": "code",
   "execution_count": 48,
   "id": "9057c4f3-17a3-4607-81fa-774d4641dfe7",
   "metadata": {},
   "outputs": [],
   "source": [
    "ris_model = models.load_model('saved_model/ris_val_0.3.h5')"
   ]
  },
  {
   "cell_type": "code",
   "execution_count": 62,
   "id": "83d2c17c-d239-4a6d-b595-8d750c9cde5f",
   "metadata": {},
   "outputs": [
    {
     "data": {
      "text/html": [
       "<div>\n",
       "<style scoped>\n",
       "    .dataframe tbody tr th:only-of-type {\n",
       "        vertical-align: middle;\n",
       "    }\n",
       "\n",
       "    .dataframe tbody tr th {\n",
       "        vertical-align: top;\n",
       "    }\n",
       "\n",
       "    .dataframe thead th {\n",
       "        text-align: right;\n",
       "    }\n",
       "</style>\n",
       "<table border=\"1\" class=\"dataframe\">\n",
       "  <thead>\n",
       "    <tr style=\"text-align: right;\">\n",
       "      <th></th>\n",
       "      <th>filename</th>\n",
       "    </tr>\n",
       "  </thead>\n",
       "  <tbody>\n",
       "  </tbody>\n",
       "</table>\n",
       "</div>"
      ],
      "text/plain": [
       "Empty DataFrame\n",
       "Columns: [filename]\n",
       "Index: []"
      ]
     },
     "execution_count": 62,
     "metadata": {},
     "output_type": "execute_result"
    }
   ],
   "source": [
    "#Creating a DataFrame by passing a dict of objects\n",
    "features = pd.DataFrame( columns=['filename'])\n",
    "features"
   ]
  },
  {
   "cell_type": "code",
   "execution_count": 63,
   "id": "36a471a7-cce0-41f8-b747-4b60dec15439",
   "metadata": {},
   "outputs": [
    {
     "data": {
      "text/html": [
       "<div>\n",
       "<style scoped>\n",
       "    .dataframe tbody tr th:only-of-type {\n",
       "        vertical-align: middle;\n",
       "    }\n",
       "\n",
       "    .dataframe tbody tr th {\n",
       "        vertical-align: top;\n",
       "    }\n",
       "\n",
       "    .dataframe thead th {\n",
       "        text-align: right;\n",
       "    }\n",
       "</style>\n",
       "<table border=\"1\" class=\"dataframe\">\n",
       "  <thead>\n",
       "    <tr style=\"text-align: right;\">\n",
       "      <th></th>\n",
       "      <th>filename</th>\n",
       "    </tr>\n",
       "  </thead>\n",
       "  <tbody>\n",
       "    <tr>\n",
       "      <th>0</th>\n",
       "      <td>hy.jpeg</td>\n",
       "    </tr>\n",
       "    <tr>\n",
       "      <th>1</th>\n",
       "      <td>hy2.jpeg</td>\n",
       "    </tr>\n",
       "    <tr>\n",
       "      <th>2</th>\n",
       "      <td>r.jpeg</td>\n",
       "    </tr>\n",
       "    <tr>\n",
       "      <th>3</th>\n",
       "      <td>ht.png</td>\n",
       "    </tr>\n",
       "  </tbody>\n",
       "</table>\n",
       "</div>"
      ],
      "text/plain": [
       "   filename\n",
       "0   hy.jpeg\n",
       "1  hy2.jpeg\n",
       "2    r.jpeg\n",
       "3    ht.png"
      ]
     },
     "execution_count": 63,
     "metadata": {},
     "output_type": "execute_result"
    }
   ],
   "source": [
    "#fill id column with image filename\n",
    "import glob, os.path\n",
    "sample= \"dataset/test/\"\n",
    "ext = ['*.jpeg','*.png']\n",
    "for e in ext:\n",
    "    image_data = glob.glob(sample+e)\n",
    "    for i, filename in enumerate(sorted(image_data)):\n",
    "        filename=filename.replace(\"dataset/test/\",\"\") #strip off filename path\n",
    "        features = features.append({\"filename\":filename},ignore_index=True) #append filename to id column\n",
    "features.head()"
   ]
  },
  {
   "cell_type": "code",
   "execution_count": 64,
   "id": "8e0d5d5e-a2fe-4652-ae88-fb6c83756648",
   "metadata": {},
   "outputs": [
    {
     "name": "stdout",
     "output_type": "stream",
     "text": [
      "Found 4 validated image filenames.\n"
     ]
    }
   ],
   "source": [
    "test_datagen = ImageDataGenerator(rescale=1./255)\n",
    "test_set = test_datagen.flow_from_dataframe(features, directory=sample, x_col='filename', y_col=None,target_size=TARGET_SIZE, color_mode='rgb',\n",
    "    class_mode=None, batch_size=BATCH_SIZE, shuffle=False,\n",
    "    seed=SEED)\n",
    "test_set.reset()"
   ]
  },
  {
   "cell_type": "code",
   "execution_count": 74,
   "id": "f3eb4d80-b905-445d-9c4e-ef6c2316257e",
   "metadata": {},
   "outputs": [],
   "source": [
    "predictions = ris_model.predict_generator(test_set)\n",
    "pred_class = np.argmax(predictions,axis=1)"
   ]
  },
  {
   "cell_type": "code",
   "execution_count": 75,
   "id": "caa35729-ab08-4062-b5d7-4376aa48356e",
   "metadata": {},
   "outputs": [],
   "source": [
    "pickle_in = open('saved_model/labels.pickle', 'rb')\n",
    "labels = pickle.load(pickle_in)"
   ]
  },
  {
   "cell_type": "code",
   "execution_count": 82,
   "id": "84140af4-0d71-42d4-a7f7-51cb4128eea1",
   "metadata": {},
   "outputs": [
    {
     "name": "stdout",
     "output_type": "stream",
     "text": [
      "The image is a yellow style\n",
      "The image is a yellow style\n",
      "The image is a red style\n",
      "The image is a white style\n"
     ]
    }
   ],
   "source": [
    "for y in pred_class:\n",
    "    result = list(labels.keys())[list(labels.values()).index(y)]\n",
    "    print(f\"The image is a {result} style\")"
   ]
  },
  {
   "cell_type": "code",
   "execution_count": null,
   "id": "962ca73f-aa35-479d-ba1b-8e568a41f21e",
   "metadata": {},
   "outputs": [],
   "source": []
  }
 ],
 "metadata": {
  "kernelspec": {
   "display_name": "Python 3",
   "language": "python",
   "name": "python3"
  },
  "language_info": {
   "codemirror_mode": {
    "name": "ipython",
    "version": 3
   },
   "file_extension": ".py",
   "mimetype": "text/x-python",
   "name": "python",
   "nbconvert_exporter": "python",
   "pygments_lexer": "ipython3",
   "version": "3.8.8"
  }
 },
 "nbformat": 4,
 "nbformat_minor": 5
}
